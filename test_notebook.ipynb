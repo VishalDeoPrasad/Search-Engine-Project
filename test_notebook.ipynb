{
 "cells": [
  {
   "cell_type": "code",
   "execution_count": 1,
   "metadata": {},
   "outputs": [
    {
     "name": "stdout",
     "output_type": "stream",
     "text": [
      "Chunk 1: This is a large docu\n",
      "Chunk 2:  document that needs\n",
      "Chunk 3: needs to be divided \n",
      "Chunk 4: ided into smaller ch\n",
      "Chunk 5: er chunks for embedd\n",
      "Chunk 6: mbedding using overl\n",
      "Chunk 7: overlapping windows.\n",
      "Chunk 8: dows.\n"
     ]
    }
   ],
   "source": [
    "def document_chunker(document, chunk_size, overlap):\n",
    "    chunks = []\n",
    "    start = 0\n",
    "    end = chunk_size\n",
    "    \n",
    "    while start < len(document):\n",
    "        chunk = document[start:end]\n",
    "        chunks.append(chunk)\n",
    "        start += chunk_size - overlap\n",
    "        end = start + chunk_size\n",
    "    \n",
    "    return chunks\n",
    "\n",
    "# Example usage\n",
    "document = \"This is a large document that needs to be divided into smaller chunks for embedding using overlapping windows.\"\n",
    "chunk_size = 20\n",
    "overlap = 5\n",
    "\n",
    "chunks = document_chunker(document, chunk_size, overlap)\n",
    "\n",
    "for i, chunk in enumerate(chunks):\n",
    "    print(f\"Chunk {i + 1}: {chunk}\")\n"
   ]
  },
  {
   "cell_type": "code",
   "execution_count": 2,
   "metadata": {},
   "outputs": [
    {
     "name": "stdout",
     "output_type": "stream",
     "text": [
      "Chunk 1: This is a large document\n",
      "Chunk 2: large document that needs to\n",
      "Chunk 3: needs to be divided into\n",
      "Chunk 4: divided into smaller chunks for\n",
      "Chunk 5: chunks for embedding using overlapping\n",
      "Chunk 6: using overlapping windows.\n"
     ]
    }
   ],
   "source": [
    "def document_chunker_by_words(document, chunk_size_words, overlap_words):\n",
    "    words = document.split()\n",
    "    chunks = []\n",
    "    start = 0\n",
    "    end = chunk_size_words\n",
    "    \n",
    "    while start < len(words):\n",
    "        chunk = ' '.join(words[start:end])\n",
    "        chunks.append(chunk)\n",
    "        start += chunk_size_words - overlap_words\n",
    "        end = start + chunk_size_words\n",
    "    \n",
    "    return chunks\n",
    "\n",
    "# Example usage\n",
    "document = \"This is a large document that needs to be divided into smaller chunks for embedding using overlapping windows.\"\n",
    "chunk_size_words = 5\n",
    "overlap_words = 2\n",
    "\n",
    "chunks = document_chunker_by_words(document, chunk_size_words, overlap_words)\n",
    "\n",
    "for i, chunk in enumerate(chunks):\n",
    "    print(f\"Chunk {i + 1}: {chunk}\")\n"
   ]
  }
 ],
 "metadata": {
  "kernelspec": {
   "display_name": "base",
   "language": "python",
   "name": "python3"
  },
  "language_info": {
   "codemirror_mode": {
    "name": "ipython",
    "version": 3
   },
   "file_extension": ".py",
   "mimetype": "text/x-python",
   "name": "python",
   "nbconvert_exporter": "python",
   "pygments_lexer": "ipython3",
   "version": "3.11.5"
  }
 },
 "nbformat": 4,
 "nbformat_minor": 2
}
